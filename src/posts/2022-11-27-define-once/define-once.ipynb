{
 "cells": [
  {
   "cell_type": "code",
   "execution_count": 1,
   "id": "e2383ec4-5e6a-47f6-bc37-b195da6d36fd",
   "metadata": {},
   "outputs": [],
   "source": [
    "import ast\n",
    "from functools import cache\n",
    "import inspect \n",
    "import time"
   ]
  },
  {
   "cell_type": "code",
   "execution_count": 2,
   "id": "dfab8164-b54b-48aa-8d73-d76c88e3fdd2",
   "metadata": {},
   "outputs": [],
   "source": [
    "def function_to_ast_string(f):\n",
    "    # Get the AST in tree form\n",
    "    node = ast.parse(inspect.getsource(f))\n",
    "    \n",
    "    # Convert to string. We can use a string here because the\n",
    "    # function \n",
    "    return ast.dump(node)\n",
    "\n",
    "def define_once_first_try(f):\n",
    "    if f.__name__ in globals().keys():\n",
    "        return globals()[f.__name__]\n",
    "    \n",
    "    return f\n",
    "\n",
    "def define_once(f):\n",
    "    if f.__name__ in globals().keys():\n",
    "        if function_to_ast_string(f) == function_to_ast_string(globals()[f.__name__]):\n",
    "            return globals()[f.__name__]\n",
    "    \n",
    "    return f"
   ]
  },
  {
   "cell_type": "code",
   "execution_count": 3,
   "id": "c1f69d22-bf50-4e96-9aaa-6b0f731b8141",
   "metadata": {},
   "outputs": [],
   "source": [
    "def time_function(f, *args):\n",
    "    # We implement this function because we are sleeping, therefore\n",
    "    # we want to measure wall time. We don't care about the function\n",
    "    # output here, we just want to time the function for demonstration\n",
    "    # purposes.\n",
    "    start = time.time()\n",
    "    result = f(*args)\n",
    "    end = time.time()\n",
    "    \n",
    "    return end - start, result\n",
    "\n",
    "def print_time(f, *args):\n",
    "    elapsed, result = time_function(f, *args)\n",
    "    print(f\"{f.__name__} took {elapsed:.6f} secs with result {result}\")"
   ]
  },
  {
   "cell_type": "code",
   "execution_count": 4,
   "id": "81f14935-2a9b-4180-bdbd-952178fb233c",
   "metadata": {},
   "outputs": [
    {
     "name": "stdout",
     "output_type": "stream",
     "text": [
      "function_that_gets_redefined took 1.004959 secs with result 1\n",
      "function_that_is_defined_once_first_try took 1.003071 secs with result 1\n",
      "function_that_is_defined_once took 1.001997 secs with result 6\n"
     ]
    }
   ],
   "source": [
    "# Run this cell over and over. You will see that the redefined function always takes\n",
    "# the same amount of time, while the function defined once at first takes one second\n",
    "# but then takes a miniscule amount of time every subsequent time the cell is run.\n",
    "# \n",
    "# Note that if the kernel is restarted, then the defined once function takes a long\n",
    "# time to run again. That particular problem is out of scope for this example: if one\n",
    "# wants to have a persistent cache, then it is possible to extend this idea (or better\n",
    "# ideas) using an on-disk cache.\n",
    "\n",
    "@cache\n",
    "def function_that_gets_redefined(a: int) -> int:\n",
    "    time.sleep(1)\n",
    "    return a\n",
    "\n",
    "@define_once_first_try\n",
    "@cache\n",
    "def function_that_is_defined_once_first_try(a: int) -> int:\n",
    "    time.sleep(1)\n",
    "    \n",
    "    # Try changing the return result here (say by adding 5) and see if\n",
    "    # the result changes in the print out.\n",
    "    return a\n",
    "\n",
    "@define_once\n",
    "@cache\n",
    "def function_that_is_defined_once(a: int) -> int:\n",
    "    time.sleep(1)\n",
    "    return a + 5\n",
    "\n",
    "\n",
    "print_time(function_that_gets_redefined, 1)\n",
    "print_time(function_that_is_defined_once_first_try, 1)\n",
    "print_time(function_that_is_defined_once, 1)"
   ]
  }
 ],
 "metadata": {
  "kernelspec": {
   "display_name": "Python 3 (ipykernel)",
   "language": "python",
   "name": "python3"
  },
  "language_info": {
   "codemirror_mode": {
    "name": "ipython",
    "version": 3
   },
   "file_extension": ".py",
   "mimetype": "text/x-python",
   "name": "python",
   "nbconvert_exporter": "python",
   "pygments_lexer": "ipython3",
   "version": "3.9.15"
  }
 },
 "nbformat": 4,
 "nbformat_minor": 5
}
